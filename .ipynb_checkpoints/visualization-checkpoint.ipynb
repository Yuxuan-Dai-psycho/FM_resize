{
 "cells": [
  {
   "cell_type": "markdown",
   "metadata": {},
   "source": [
    "## Resizing results visualization"
   ]
  },
  {
   "cell_type": "code",
   "execution_count": 2,
   "metadata": {},
   "outputs": [],
   "source": [
    "import numpy as np\n",
    "import os\n",
    "from os.path import join as pjoin\n",
    "from scipy.io import loadmat\n",
    "import pandas as pd\n",
    "import seaborn as sns\n",
    "from matplotlib import pyplot as plt"
   ]
  },
  {
   "cell_type": "markdown",
   "metadata": {},
   "source": [
    "#### define functions"
   ]
  },
  {
   "cell_type": "code",
   "execution_count": 3,
   "metadata": {},
   "outputs": [],
   "source": [
    "def viz_df_trans(ori_df, target_col, point_list, set_idx, re_type):\n",
    "\n",
    "    target_df = pd.DataFrame(columns=target_col)\n",
    "\n",
    "    for i in np.arange(ori_df.shape[0]):\n",
    "        for j in np.arange(ori_df.shape[1]):\n",
    "            single_corr = ori_df.iloc[0,0]\n",
    "            for n_sub in np.arange(single_corr.shape[0]):\n",
    "                for n_point in np.arange(single_corr.shape[1]):\n",
    "                    tmp = {target_col[0]: ori_df.iloc[i,j][n_sub,n_point],\n",
    "                               target_col[1]: f'dataset{set_idx}',\n",
    "                               target_col[2]: list(ori_df.index)[i],\n",
    "                               target_col[3]: re_type,\n",
    "                               target_col[4]: list(ori_df.columns)[j][8:],\n",
    "                               target_col[5]: n_sub + 1,\n",
    "                               target_col[6]: point_list[n_point]}\n",
    "                    target_df = pd.concat((target_df, pd.DataFrame(tmp, index=[0])), ignore_index=True)\n",
    "\n",
    "    return target_df"
   ]
  },
  {
   "cell_type": "markdown",
   "metadata": {},
   "source": [
    "#### load data(based on resizing.py files)"
   ]
  },
  {
   "cell_type": "code",
   "execution_count": 4,
   "metadata": {},
   "outputs": [],
   "source": [
    "layer_list = np.arange(1, 6)\n",
    "datasets_n = [92, 118]\n",
    "modalities = ['meg', 'fmri', 'behavior']\n",
    "resize_type = ['ratio', 'fixed']\n",
    "dataset_root = '/LOCAL/ydai/workingdir/dataset'\n",
    "# results_root = '/LOCAL/ydai/workingdir/resizing_results'\n",
    "results_root = 'D:\\\\Lab_Works\\\\MPI\\\\resizing_results'"
   ]
  },
  {
   "cell_type": "code",
   "execution_count": 5,
   "metadata": {
    "collapsed": true
   },
   "outputs": [
    {
     "ename": "KeyboardInterrupt",
     "evalue": "",
     "output_type": "error",
     "traceback": [
      "\u001b[1;31m---------------------------------------------------------------------------\u001b[0m",
      "\u001b[1;31mKeyboardInterrupt\u001b[0m                         Traceback (most recent call last)",
      "\u001b[1;32m~\\AppData\\Local\\Temp/ipykernel_9444/2859133007.py\u001b[0m in \u001b[0;36m<module>\u001b[1;34m\u001b[0m\n\u001b[0;32m     12\u001b[0m \u001b[1;33m\u001b[0m\u001b[0m\n\u001b[0;32m     13\u001b[0m         \u001b[1;32mif\u001b[0m \u001b[0mset_idx\u001b[0m \u001b[1;33m==\u001b[0m \u001b[1;36m92\u001b[0m\u001b[1;33m:\u001b[0m\u001b[1;33m\u001b[0m\u001b[1;33m\u001b[0m\u001b[0m\n\u001b[1;32m---> 14\u001b[1;33m             \u001b[0mviz_corr\u001b[0m \u001b[1;33m=\u001b[0m \u001b[0mviz_df_trans\u001b[0m\u001b[1;33m(\u001b[0m\u001b[0mcorr\u001b[0m\u001b[1;33m,\u001b[0m \u001b[0mmeg_df_col\u001b[0m\u001b[1;33m,\u001b[0m \u001b[0mset92_timepoints\u001b[0m\u001b[1;33m,\u001b[0m \u001b[0mset_idx\u001b[0m\u001b[1;33m,\u001b[0m \u001b[0mresize\u001b[0m\u001b[1;33m)\u001b[0m\u001b[1;33m\u001b[0m\u001b[1;33m\u001b[0m\u001b[0m\n\u001b[0m\u001b[0;32m     15\u001b[0m         \u001b[1;32melse\u001b[0m\u001b[1;33m:\u001b[0m\u001b[1;33m\u001b[0m\u001b[1;33m\u001b[0m\u001b[0m\n\u001b[0;32m     16\u001b[0m             \u001b[0mviz_corr\u001b[0m \u001b[1;33m=\u001b[0m \u001b[0mviz_df_trans\u001b[0m\u001b[1;33m(\u001b[0m\u001b[0mcorr\u001b[0m\u001b[1;33m,\u001b[0m \u001b[0mmeg_df_col\u001b[0m\u001b[1;33m,\u001b[0m \u001b[0mset118_timepoints\u001b[0m\u001b[1;33m,\u001b[0m \u001b[0mset_idx\u001b[0m\u001b[1;33m,\u001b[0m \u001b[0mresize\u001b[0m\u001b[1;33m)\u001b[0m\u001b[1;33m\u001b[0m\u001b[1;33m\u001b[0m\u001b[0m\n",
      "\u001b[1;32m~\\AppData\\Local\\Temp/ipykernel_9444/3057346146.py\u001b[0m in \u001b[0;36mviz_df_trans\u001b[1;34m(ori_df, target_col, point_list, set_idx, re_type)\u001b[0m\n\u001b[0;32m     15\u001b[0m                            \u001b[0mtarget_col\u001b[0m\u001b[1;33m[\u001b[0m\u001b[1;36m5\u001b[0m\u001b[1;33m]\u001b[0m\u001b[1;33m:\u001b[0m \u001b[0mn_sub\u001b[0m \u001b[1;33m+\u001b[0m \u001b[1;36m1\u001b[0m\u001b[1;33m,\u001b[0m\u001b[1;33m\u001b[0m\u001b[1;33m\u001b[0m\u001b[0m\n\u001b[0;32m     16\u001b[0m                            target_col[6]: point_list[n_point]}\n\u001b[1;32m---> 17\u001b[1;33m                     \u001b[0mtarget_df\u001b[0m \u001b[1;33m=\u001b[0m \u001b[0mpd\u001b[0m\u001b[1;33m.\u001b[0m\u001b[0mconcat\u001b[0m\u001b[1;33m(\u001b[0m\u001b[1;33m(\u001b[0m\u001b[0mtarget_df\u001b[0m\u001b[1;33m,\u001b[0m \u001b[0mpd\u001b[0m\u001b[1;33m.\u001b[0m\u001b[0mDataFrame\u001b[0m\u001b[1;33m(\u001b[0m\u001b[0mtmp\u001b[0m\u001b[1;33m,\u001b[0m \u001b[0mindex\u001b[0m\u001b[1;33m=\u001b[0m\u001b[1;33m[\u001b[0m\u001b[1;36m0\u001b[0m\u001b[1;33m]\u001b[0m\u001b[1;33m)\u001b[0m\u001b[1;33m)\u001b[0m\u001b[1;33m,\u001b[0m \u001b[0mignore_index\u001b[0m\u001b[1;33m=\u001b[0m\u001b[1;32mTrue\u001b[0m\u001b[1;33m)\u001b[0m\u001b[1;33m\u001b[0m\u001b[1;33m\u001b[0m\u001b[0m\n\u001b[0m\u001b[0;32m     18\u001b[0m \u001b[1;33m\u001b[0m\u001b[0m\n\u001b[0;32m     19\u001b[0m     \u001b[1;32mreturn\u001b[0m \u001b[0mtarget_df\u001b[0m\u001b[1;33m\u001b[0m\u001b[1;33m\u001b[0m\u001b[0m\n",
      "\u001b[1;32mD:\\Programs\\miniconda\\envs\\python38\\lib\\site-packages\\pandas\\util\\_decorators.py\u001b[0m in \u001b[0;36mwrapper\u001b[1;34m(*args, **kwargs)\u001b[0m\n\u001b[0;32m    309\u001b[0m                     \u001b[0mstacklevel\u001b[0m\u001b[1;33m=\u001b[0m\u001b[0mstacklevel\u001b[0m\u001b[1;33m,\u001b[0m\u001b[1;33m\u001b[0m\u001b[1;33m\u001b[0m\u001b[0m\n\u001b[0;32m    310\u001b[0m                 )\n\u001b[1;32m--> 311\u001b[1;33m             \u001b[1;32mreturn\u001b[0m \u001b[0mfunc\u001b[0m\u001b[1;33m(\u001b[0m\u001b[1;33m*\u001b[0m\u001b[0margs\u001b[0m\u001b[1;33m,\u001b[0m \u001b[1;33m**\u001b[0m\u001b[0mkwargs\u001b[0m\u001b[1;33m)\u001b[0m\u001b[1;33m\u001b[0m\u001b[1;33m\u001b[0m\u001b[0m\n\u001b[0m\u001b[0;32m    312\u001b[0m \u001b[1;33m\u001b[0m\u001b[0m\n\u001b[0;32m    313\u001b[0m         \u001b[1;32mreturn\u001b[0m \u001b[0mwrapper\u001b[0m\u001b[1;33m\u001b[0m\u001b[1;33m\u001b[0m\u001b[0m\n",
      "\u001b[1;32mD:\\Programs\\miniconda\\envs\\python38\\lib\\site-packages\\pandas\\core\\reshape\\concat.py\u001b[0m in \u001b[0;36mconcat\u001b[1;34m(objs, axis, join, ignore_index, keys, levels, names, verify_integrity, sort, copy)\u001b[0m\n\u001b[0;32m    305\u001b[0m     )\n\u001b[0;32m    306\u001b[0m \u001b[1;33m\u001b[0m\u001b[0m\n\u001b[1;32m--> 307\u001b[1;33m     \u001b[1;32mreturn\u001b[0m \u001b[0mop\u001b[0m\u001b[1;33m.\u001b[0m\u001b[0mget_result\u001b[0m\u001b[1;33m(\u001b[0m\u001b[1;33m)\u001b[0m\u001b[1;33m\u001b[0m\u001b[1;33m\u001b[0m\u001b[0m\n\u001b[0m\u001b[0;32m    308\u001b[0m \u001b[1;33m\u001b[0m\u001b[0m\n\u001b[0;32m    309\u001b[0m \u001b[1;33m\u001b[0m\u001b[0m\n",
      "\u001b[1;32mD:\\Programs\\miniconda\\envs\\python38\\lib\\site-packages\\pandas\\core\\reshape\\concat.py\u001b[0m in \u001b[0;36mget_result\u001b[1;34m(self)\u001b[0m\n\u001b[0;32m    530\u001b[0m                 \u001b[0mmgrs_indexers\u001b[0m\u001b[1;33m.\u001b[0m\u001b[0mappend\u001b[0m\u001b[1;33m(\u001b[0m\u001b[1;33m(\u001b[0m\u001b[0mobj\u001b[0m\u001b[1;33m.\u001b[0m\u001b[0m_mgr\u001b[0m\u001b[1;33m,\u001b[0m \u001b[0mindexers\u001b[0m\u001b[1;33m)\u001b[0m\u001b[1;33m)\u001b[0m\u001b[1;33m\u001b[0m\u001b[1;33m\u001b[0m\u001b[0m\n\u001b[0;32m    531\u001b[0m \u001b[1;33m\u001b[0m\u001b[0m\n\u001b[1;32m--> 532\u001b[1;33m             new_data = concatenate_managers(\n\u001b[0m\u001b[0;32m    533\u001b[0m                 \u001b[0mmgrs_indexers\u001b[0m\u001b[1;33m,\u001b[0m \u001b[0mself\u001b[0m\u001b[1;33m.\u001b[0m\u001b[0mnew_axes\u001b[0m\u001b[1;33m,\u001b[0m \u001b[0mconcat_axis\u001b[0m\u001b[1;33m=\u001b[0m\u001b[0mself\u001b[0m\u001b[1;33m.\u001b[0m\u001b[0mbm_axis\u001b[0m\u001b[1;33m,\u001b[0m \u001b[0mcopy\u001b[0m\u001b[1;33m=\u001b[0m\u001b[0mself\u001b[0m\u001b[1;33m.\u001b[0m\u001b[0mcopy\u001b[0m\u001b[1;33m\u001b[0m\u001b[1;33m\u001b[0m\u001b[0m\n\u001b[0;32m    534\u001b[0m             )\n",
      "\u001b[1;32mD:\\Programs\\miniconda\\envs\\python38\\lib\\site-packages\\pandas\\core\\internals\\concat.py\u001b[0m in \u001b[0;36mconcatenate_managers\u001b[1;34m(mgrs_indexers, axes, concat_axis, copy)\u001b[0m\n\u001b[0;32m    224\u001b[0m             \u001b[0mfastpath\u001b[0m \u001b[1;33m=\u001b[0m \u001b[0mblk\u001b[0m\u001b[1;33m.\u001b[0m\u001b[0mvalues\u001b[0m\u001b[1;33m.\u001b[0m\u001b[0mdtype\u001b[0m \u001b[1;33m==\u001b[0m \u001b[0mvalues\u001b[0m\u001b[1;33m.\u001b[0m\u001b[0mdtype\u001b[0m\u001b[1;33m\u001b[0m\u001b[1;33m\u001b[0m\u001b[0m\n\u001b[0;32m    225\u001b[0m         \u001b[1;32melse\u001b[0m\u001b[1;33m:\u001b[0m\u001b[1;33m\u001b[0m\u001b[1;33m\u001b[0m\u001b[0m\n\u001b[1;32m--> 226\u001b[1;33m             \u001b[0mvalues\u001b[0m \u001b[1;33m=\u001b[0m \u001b[0m_concatenate_join_units\u001b[0m\u001b[1;33m(\u001b[0m\u001b[0mjoin_units\u001b[0m\u001b[1;33m,\u001b[0m \u001b[0mconcat_axis\u001b[0m\u001b[1;33m,\u001b[0m \u001b[0mcopy\u001b[0m\u001b[1;33m=\u001b[0m\u001b[0mcopy\u001b[0m\u001b[1;33m)\u001b[0m\u001b[1;33m\u001b[0m\u001b[1;33m\u001b[0m\u001b[0m\n\u001b[0m\u001b[0;32m    227\u001b[0m             \u001b[0mfastpath\u001b[0m \u001b[1;33m=\u001b[0m \u001b[1;32mFalse\u001b[0m\u001b[1;33m\u001b[0m\u001b[1;33m\u001b[0m\u001b[0m\n\u001b[0;32m    228\u001b[0m \u001b[1;33m\u001b[0m\u001b[0m\n",
      "\u001b[1;32mD:\\Programs\\miniconda\\envs\\python38\\lib\\site-packages\\pandas\\core\\internals\\concat.py\u001b[0m in \u001b[0;36m_concatenate_join_units\u001b[1;34m(join_units, concat_axis, copy)\u001b[0m\n\u001b[0;32m    521\u001b[0m \u001b[1;33m\u001b[0m\u001b[0m\n\u001b[0;32m    522\u001b[0m     \u001b[1;32melse\u001b[0m\u001b[1;33m:\u001b[0m\u001b[1;33m\u001b[0m\u001b[1;33m\u001b[0m\u001b[0m\n\u001b[1;32m--> 523\u001b[1;33m         \u001b[0mconcat_values\u001b[0m \u001b[1;33m=\u001b[0m \u001b[0mconcat_compat\u001b[0m\u001b[1;33m(\u001b[0m\u001b[0mto_concat\u001b[0m\u001b[1;33m,\u001b[0m \u001b[0maxis\u001b[0m\u001b[1;33m=\u001b[0m\u001b[0mconcat_axis\u001b[0m\u001b[1;33m)\u001b[0m\u001b[1;33m\u001b[0m\u001b[1;33m\u001b[0m\u001b[0m\n\u001b[0m\u001b[0;32m    524\u001b[0m \u001b[1;33m\u001b[0m\u001b[0m\n\u001b[0;32m    525\u001b[0m     \u001b[1;32mreturn\u001b[0m \u001b[0mconcat_values\u001b[0m\u001b[1;33m\u001b[0m\u001b[1;33m\u001b[0m\u001b[0m\n",
      "\u001b[1;32mD:\\Programs\\miniconda\\envs\\python38\\lib\\site-packages\\pandas\\core\\dtypes\\concat.py\u001b[0m in \u001b[0;36mconcat_compat\u001b[1;34m(to_concat, axis, ea_compat_axis)\u001b[0m\n\u001b[0;32m    149\u001b[0m                 \u001b[0mto_concat\u001b[0m \u001b[1;33m=\u001b[0m \u001b[1;33m[\u001b[0m\u001b[0mx\u001b[0m\u001b[1;33m.\u001b[0m\u001b[0mastype\u001b[0m\u001b[1;33m(\u001b[0m\u001b[1;34m\"object\"\u001b[0m\u001b[1;33m)\u001b[0m \u001b[1;32mfor\u001b[0m \u001b[0mx\u001b[0m \u001b[1;32min\u001b[0m \u001b[0mto_concat\u001b[0m\u001b[1;33m]\u001b[0m\u001b[1;33m\u001b[0m\u001b[1;33m\u001b[0m\u001b[0m\n\u001b[0;32m    150\u001b[0m \u001b[1;33m\u001b[0m\u001b[0m\n\u001b[1;32m--> 151\u001b[1;33m     \u001b[1;32mreturn\u001b[0m \u001b[0mnp\u001b[0m\u001b[1;33m.\u001b[0m\u001b[0mconcatenate\u001b[0m\u001b[1;33m(\u001b[0m\u001b[0mto_concat\u001b[0m\u001b[1;33m,\u001b[0m \u001b[0maxis\u001b[0m\u001b[1;33m=\u001b[0m\u001b[0maxis\u001b[0m\u001b[1;33m)\u001b[0m\u001b[1;33m\u001b[0m\u001b[1;33m\u001b[0m\u001b[0m\n\u001b[0m\u001b[0;32m    152\u001b[0m \u001b[1;33m\u001b[0m\u001b[0m\n\u001b[0;32m    153\u001b[0m \u001b[1;33m\u001b[0m\u001b[0m\n",
      "\u001b[1;32m<__array_function__ internals>\u001b[0m in \u001b[0;36mconcatenate\u001b[1;34m(*args, **kwargs)\u001b[0m\n",
      "\u001b[1;31mKeyboardInterrupt\u001b[0m: "
     ]
    }
   ],
   "source": [
    "# meg data\n",
    "set92_timepoints = np.arange(-100, 1201)\n",
    "set118_timepoints = np.arange(-100, 1001)\n",
    "meg_df_col = ['corr_score', 'set_idx', 'layer_idx', 'resize_type', 'resize_scale', 'sub', 'timepoint']\n",
    "meg_df = pd.DataFrame(columns=meg_df_col)\n",
    "\n",
    "for set_idx in datasets_n:\n",
    "    for resize in resize_type:\n",
    "        meg_dir = pjoin(results_root, 'meg')\n",
    "        corr_fn = f'dataset{set_idx}_{resize}_corr.pkl'\n",
    "        corr = pd.read_pickle(pjoin(meg_dir, corr_fn))\n",
    "        \n",
    "        if set_idx == 92:\n",
    "            viz_corr = viz_df_trans(corr, meg_df_col, set92_timepoints, set_idx, resize)\n",
    "        else:\n",
    "            viz_corr = viz_df_trans(corr, meg_df_col, set118_timepoints, set_idx, resize)\n",
    "\n",
    "        meg_df = pd.concat((meg_df, viz_corr), ignore_index=True)"
   ]
  },
  {
   "cell_type": "code",
   "execution_count": 11,
   "metadata": {},
   "outputs": [
    {
     "data": {
      "text/plain": [
       "(16, 1301)"
      ]
     },
     "execution_count": 11,
     "metadata": {},
     "output_type": "execute_result"
    }
   ],
   "source": [
    "corr = pd.read_pickle(pjoin(meg_dir, corr_fn))\n",
    "corr.iloc[0,0].shape"
   ]
  },
  {
   "cell_type": "code",
   "execution_count": null,
   "metadata": {},
   "outputs": [],
   "source": [
    "# fmri data\n",
    "roi_list = ['evc', 'hvc']\n",
    "fmri_df_col = ['corr_score', 'set_idx', 'layer_idx', 'resize_type', 'resize_scale', 'sub', 'roi']\n",
    "fmri_df = pd.DataFrame(columns=fmri_df_col)\n",
    "\n",
    "for set_idx in datasets_n:\n",
    "    for resize in resize_type:\n",
    "        fmri_dir = pjoin(results_root, 'fmri')\n",
    "        corr_fn = f'dataset{set_idx}_{resize}_corr.pkl'\n",
    "        corr = pd.read_pickle(pjoin(fmri_dir, corr_fn))\n",
    "\n",
    "        viz_corr = viz_df_trans(corr, fmri_df_col, roi_list, set_idx, resize)\n",
    "        \n",
    "        fmri_df = pd.concat((fmri_df, viz_corr), ignore_index=True)\n",
    "        "
   ]
  },
  {
   "cell_type": "code",
   "execution_count": null,
   "metadata": {},
   "outputs": [],
   "source": [
    "# behavior data\n",
    "behavior_df_col = ['corr_score', 'set_idx', 'layer_idx', 'resize_type', 'resize_scale', 'sub','point']\n",
    "behavior_df = pd.DataFrame(columns=behavior_df_col)\n",
    "\n",
    "for set_idx in datasets_n:\n",
    "    for resize in resize_type:\n",
    "        behavior_dir = pjoin(results_root, 'behavior')\n",
    "        corr_fn = f'dataset{set_idx}_{resize}_corr.pkl'\n",
    "        corr = pd.read_pickle(pjoin(behavior_dir, corr_fn))\n",
    "\n",
    "        viz_corr = viz_df_trans(corr, behavior_df_col, [np.nan], set_idx, resize)\n",
    "        \n",
    "        behavior_df = pd.concat((behavior_df, viz_corr), ignore_index=True)\n",
    "        "
   ]
  },
  {
   "cell_type": "code",
   "execution_count": null,
   "metadata": {
    "collapsed": true
   },
   "outputs": [
    {
     "data": {
      "text/html": [
       "<div>\n",
       "<style scoped>\n",
       "    .dataframe tbody tr th:only-of-type {\n",
       "        vertical-align: middle;\n",
       "    }\n",
       "\n",
       "    .dataframe tbody tr th {\n",
       "        vertical-align: top;\n",
       "    }\n",
       "\n",
       "    .dataframe thead th {\n",
       "        text-align: right;\n",
       "    }\n",
       "</style>\n",
       "<table border=\"1\" class=\"dataframe\">\n",
       "  <thead>\n",
       "    <tr style=\"text-align: right;\">\n",
       "      <th></th>\n",
       "      <th>corr_score</th>\n",
       "      <th>set_idx</th>\n",
       "      <th>layer_idx</th>\n",
       "      <th>resize_type</th>\n",
       "      <th>resize_scale</th>\n",
       "      <th>sub</th>\n",
       "      <th>roi</th>\n",
       "    </tr>\n",
       "  </thead>\n",
       "  <tbody>\n",
       "    <tr>\n",
       "      <th>0</th>\n",
       "      <td>0.179251</td>\n",
       "      <td>dataset92</td>\n",
       "      <td>layer1</td>\n",
       "      <td>ratio</td>\n",
       "      <td>0.05</td>\n",
       "      <td>1</td>\n",
       "      <td>evc</td>\n",
       "    </tr>\n",
       "    <tr>\n",
       "      <th>1</th>\n",
       "      <td>0.146392</td>\n",
       "      <td>dataset92</td>\n",
       "      <td>layer1</td>\n",
       "      <td>ratio</td>\n",
       "      <td>0.05</td>\n",
       "      <td>1</td>\n",
       "      <td>hvc</td>\n",
       "    </tr>\n",
       "    <tr>\n",
       "      <th>2</th>\n",
       "      <td>0.021035</td>\n",
       "      <td>dataset92</td>\n",
       "      <td>layer1</td>\n",
       "      <td>ratio</td>\n",
       "      <td>0.05</td>\n",
       "      <td>2</td>\n",
       "      <td>evc</td>\n",
       "    </tr>\n",
       "    <tr>\n",
       "      <th>3</th>\n",
       "      <td>-0.001541</td>\n",
       "      <td>dataset92</td>\n",
       "      <td>layer1</td>\n",
       "      <td>ratio</td>\n",
       "      <td>0.05</td>\n",
       "      <td>2</td>\n",
       "      <td>hvc</td>\n",
       "    </tr>\n",
       "    <tr>\n",
       "      <th>4</th>\n",
       "      <td>-0.002546</td>\n",
       "      <td>dataset92</td>\n",
       "      <td>layer1</td>\n",
       "      <td>ratio</td>\n",
       "      <td>0.05</td>\n",
       "      <td>3</td>\n",
       "      <td>evc</td>\n",
       "    </tr>\n",
       "    <tr>\n",
       "      <th>...</th>\n",
       "      <td>...</td>\n",
       "      <td>...</td>\n",
       "      <td>...</td>\n",
       "      <td>...</td>\n",
       "      <td>...</td>\n",
       "      <td>...</td>\n",
       "      <td>...</td>\n",
       "    </tr>\n",
       "    <tr>\n",
       "      <th>3595</th>\n",
       "      <td>0.268470</td>\n",
       "      <td>dataset118</td>\n",
       "      <td>layer5</td>\n",
       "      <td>fixed</td>\n",
       "      <td>36</td>\n",
       "      <td>13</td>\n",
       "      <td>hvc</td>\n",
       "    </tr>\n",
       "    <tr>\n",
       "      <th>3596</th>\n",
       "      <td>0.118285</td>\n",
       "      <td>dataset118</td>\n",
       "      <td>layer5</td>\n",
       "      <td>fixed</td>\n",
       "      <td>36</td>\n",
       "      <td>14</td>\n",
       "      <td>evc</td>\n",
       "    </tr>\n",
       "    <tr>\n",
       "      <th>3597</th>\n",
       "      <td>0.228827</td>\n",
       "      <td>dataset118</td>\n",
       "      <td>layer5</td>\n",
       "      <td>fixed</td>\n",
       "      <td>36</td>\n",
       "      <td>14</td>\n",
       "      <td>hvc</td>\n",
       "    </tr>\n",
       "    <tr>\n",
       "      <th>3598</th>\n",
       "      <td>0.078606</td>\n",
       "      <td>dataset118</td>\n",
       "      <td>layer5</td>\n",
       "      <td>fixed</td>\n",
       "      <td>36</td>\n",
       "      <td>15</td>\n",
       "      <td>evc</td>\n",
       "    </tr>\n",
       "    <tr>\n",
       "      <th>3599</th>\n",
       "      <td>0.268068</td>\n",
       "      <td>dataset118</td>\n",
       "      <td>layer5</td>\n",
       "      <td>fixed</td>\n",
       "      <td>36</td>\n",
       "      <td>15</td>\n",
       "      <td>hvc</td>\n",
       "    </tr>\n",
       "  </tbody>\n",
       "</table>\n",
       "<p>3600 rows × 7 columns</p>\n",
       "</div>"
      ],
      "text/plain": [
       "      corr_score     set_idx layer_idx resize_type resize_scale sub  roi\n",
       "0       0.179251   dataset92    layer1       ratio         0.05   1  evc\n",
       "1       0.146392   dataset92    layer1       ratio         0.05   1  hvc\n",
       "2       0.021035   dataset92    layer1       ratio         0.05   2  evc\n",
       "3      -0.001541   dataset92    layer1       ratio         0.05   2  hvc\n",
       "4      -0.002546   dataset92    layer1       ratio         0.05   3  evc\n",
       "...          ...         ...       ...         ...          ...  ..  ...\n",
       "3595    0.268470  dataset118    layer5       fixed           36  13  hvc\n",
       "3596    0.118285  dataset118    layer5       fixed           36  14  evc\n",
       "3597    0.228827  dataset118    layer5       fixed           36  14  hvc\n",
       "3598    0.078606  dataset118    layer5       fixed           36  15  evc\n",
       "3599    0.268068  dataset118    layer5       fixed           36  15  hvc\n",
       "\n",
       "[3600 rows x 7 columns]"
      ]
     },
     "execution_count": 63,
     "metadata": {},
     "output_type": "execute_result"
    }
   ],
   "source": [
    "fmri_df"
   ]
  },
  {
   "cell_type": "markdown",
   "metadata": {},
   "source": [
    "### image plot"
   ]
  },
  {
   "cell_type": "code",
   "execution_count": null,
   "metadata": {},
   "outputs": [],
   "source": [
    "# define variables\n",
    "# save_pth = '/home/ydai/workingdir/resize_plots'\n",
    "# if not os.isdir(save_pth):\n",
    "#     os.makedirs(save_pth)\n",
    "\n",
    "# set plot params\n",
    "sns.set_style('darkgrid')\n",
    "sns.set_palette('pastel')"
   ]
  },
  {
   "cell_type": "code",
   "execution_count": null,
   "metadata": {},
   "outputs": [],
   "source": [
    "# meg visualization\n"
   ]
  },
  {
   "cell_type": "code",
   "execution_count": null,
   "metadata": {},
   "outputs": [],
   "source": [
    "# fmri visualization\n",
    "\n",
    "# resizing by ratio\n",
    "plt.figure()\n",
    "plt.suptitle('resizing by ratio')\n",
    "sns.catplot(data=fmri_df[fmri_df['resize_type']=='ratio'], x='layer_idx', y='corr_score', \n",
    "            hue='resize_scale', col='roi', kind='bar', errwidth=0.5)\n",
    "\n",
    "# resizing by fixed size\n",
    "plt.figure()\n",
    "plt.suptitle('resizing by fixed size')\n",
    "sns.catplot(data=fmri_df[fmri_df['resize_type']=='fixed'], x='layer_idx', y='corr_score', \n",
    "            hue='resize_scale', col='roi', kind='bar', errwidth=0.5)"
   ]
  },
  {
   "cell_type": "code",
   "execution_count": null,
   "metadata": {},
   "outputs": [],
   "source": [
    "# behavior visualization\n",
    "\n",
    "# resizing by ratio\n",
    "plt.figure()\n",
    "plt.suptitle('resizing by ratio')\n",
    "sns.catplot(data=behavior_df[behavior_df['resize_type']=='ratio'], x='layer_idx', y='corr_score', \n",
    "            hue='resize_scale', col='set_idx', kind='bar', errwidth=0.5)\n",
    "\n",
    "# resizing by fixed size\n",
    "plt.figure()\n",
    "plt.suptitle('resizing by fixed size')\n",
    "sns.catplot(data=behavior_df[behavior_df['resize_type']=='fixed'], x='layer_idx', y='corr_score', \n",
    "            hue='resize_scale', col='set_idx', kind='bar', errwidth=0.5)"
   ]
  }
 ],
 "metadata": {
  "interpreter": {
   "hash": "f66b882d21824802bd237af2d8572ddfe666b7df84cf77cde792d11c63188fa4"
  },
  "kernelspec": {
   "display_name": "Python [conda env:python38]",
   "language": "python",
   "name": "python38"
  },
  "language_info": {
   "codemirror_mode": {
    "name": "ipython",
    "version": 3
   },
   "file_extension": ".py",
   "mimetype": "text/x-python",
   "name": "python",
   "nbconvert_exporter": "python",
   "pygments_lexer": "ipython3",
   "version": "3.8.10"
  },
  "varInspector": {
   "cols": {
    "lenName": 16,
    "lenType": 16,
    "lenVar": 40
   },
   "kernels_config": {
    "python": {
     "delete_cmd_postfix": "",
     "delete_cmd_prefix": "del ",
     "library": "var_list.py",
     "varRefreshCmd": "print(var_dic_list())"
    },
    "r": {
     "delete_cmd_postfix": ") ",
     "delete_cmd_prefix": "rm(",
     "library": "var_list.r",
     "varRefreshCmd": "cat(var_dic_list()) "
    }
   },
   "types_to_exclude": [
    "module",
    "function",
    "builtin_function_or_method",
    "instance",
    "_Feature"
   ],
   "window_display": false
  }
 },
 "nbformat": 4,
 "nbformat_minor": 2
}
